{
 "cells": [
  {
   "cell_type": "code",
   "execution_count": 1,
   "metadata": {},
   "outputs": [],
   "source": [
    "import pandas as pd\n",
    "import numpy as np"
   ]
  },
  {
   "cell_type": "code",
   "execution_count": 2,
   "metadata": {},
   "outputs": [],
   "source": [
    "df = pd.read_csv('~/Dropbox (Aalto)/Jere_data/export.csv')"
   ]
  },
  {
   "cell_type": "markdown",
   "metadata": {},
   "source": [
    "duplicate entries in 'LOHKO'"
   ]
  },
  {
   "cell_type": "code",
   "execution_count": 3,
   "metadata": {},
   "outputs": [
    {
     "data": {
      "text/plain": [
       "4817"
      ]
     },
     "execution_count": 3,
     "metadata": {},
     "output_type": "execute_result"
    }
   ],
   "source": [
    "df.shape[0] - len(np.unique(df['LOHKO']))"
   ]
  },
  {
   "cell_type": "code",
   "execution_count": 4,
   "metadata": {},
   "outputs": [],
   "source": [
    "lohko = df['LOHKO']"
   ]
  },
  {
   "cell_type": "code",
   "execution_count": 5,
   "metadata": {},
   "outputs": [
    {
     "data": {
      "text/html": [
       "<div>\n",
       "<style scoped>\n",
       "    .dataframe tbody tr th:only-of-type {\n",
       "        vertical-align: middle;\n",
       "    }\n",
       "\n",
       "    .dataframe tbody tr th {\n",
       "        vertical-align: top;\n",
       "    }\n",
       "\n",
       "    .dataframe thead th {\n",
       "        text-align: right;\n",
       "    }\n",
       "</style>\n",
       "<table border=\"1\" class=\"dataframe\">\n",
       "  <thead>\n",
       "    <tr style=\"text-align: right;\">\n",
       "      <th></th>\n",
       "      <th>ELY</th>\n",
       "      <th>KNRO</th>\n",
       "      <th>TILTU</th>\n",
       "      <th>LOHKO</th>\n",
       "      <th>AREA</th>\n",
       "      <th>PERIMETER</th>\n",
       "      <th>xmin</th>\n",
       "      <th>ymin</th>\n",
       "      <th>xmax</th>\n",
       "      <th>ymax</th>\n",
       "    </tr>\n",
       "  </thead>\n",
       "  <tbody>\n",
       "    <tr>\n",
       "      <th>792543</th>\n",
       "      <td>11</td>\n",
       "      <td>233</td>\n",
       "      <td>971026479.0</td>\n",
       "      <td>40077770</td>\n",
       "      <td>368.540762</td>\n",
       "      <td>816.415759</td>\n",
       "      <td>3292577.932</td>\n",
       "      <td>7012355.530</td>\n",
       "      <td>3292829.129</td>\n",
       "      <td>7012549.278</td>\n",
       "    </tr>\n",
       "    <tr>\n",
       "      <th>792515</th>\n",
       "      <td>11</td>\n",
       "      <td>233</td>\n",
       "      <td>971025368.0</td>\n",
       "      <td>40077770</td>\n",
       "      <td>368.540762</td>\n",
       "      <td>816.415759</td>\n",
       "      <td>3292577.932</td>\n",
       "      <td>7012355.530</td>\n",
       "      <td>3292829.129</td>\n",
       "      <td>7012549.278</td>\n",
       "    </tr>\n",
       "    <tr>\n",
       "      <th>789359</th>\n",
       "      <td>11</td>\n",
       "      <td>233</td>\n",
       "      <td>281027184.0</td>\n",
       "      <td>40126068</td>\n",
       "      <td>398.492676</td>\n",
       "      <td>856.007206</td>\n",
       "      <td>3287961.922</td>\n",
       "      <td>7032875.164</td>\n",
       "      <td>3288275.050</td>\n",
       "      <td>7033158.769</td>\n",
       "    </tr>\n",
       "    <tr>\n",
       "      <th>780177</th>\n",
       "      <td>11</td>\n",
       "      <td>233</td>\n",
       "      <td>4084710.0</td>\n",
       "      <td>40126068</td>\n",
       "      <td>398.492676</td>\n",
       "      <td>856.007206</td>\n",
       "      <td>3287961.922</td>\n",
       "      <td>7032875.164</td>\n",
       "      <td>3288275.050</td>\n",
       "      <td>7033158.769</td>\n",
       "    </tr>\n",
       "    <tr>\n",
       "      <th>792544</th>\n",
       "      <td>11</td>\n",
       "      <td>233</td>\n",
       "      <td>971026479.0</td>\n",
       "      <td>40783749</td>\n",
       "      <td>542.836465</td>\n",
       "      <td>1243.717362</td>\n",
       "      <td>3292567.022</td>\n",
       "      <td>7012342.833</td>\n",
       "      <td>3292898.815</td>\n",
       "      <td>7012700.452</td>\n",
       "    </tr>\n",
       "    <tr>\n",
       "      <th>777705</th>\n",
       "      <td>11</td>\n",
       "      <td>233</td>\n",
       "      <td>4024385.0</td>\n",
       "      <td>40783749</td>\n",
       "      <td>542.836465</td>\n",
       "      <td>1243.717362</td>\n",
       "      <td>3292567.022</td>\n",
       "      <td>7012342.833</td>\n",
       "      <td>3292898.815</td>\n",
       "      <td>7012700.452</td>\n",
       "    </tr>\n",
       "  </tbody>\n",
       "</table>\n",
       "</div>"
      ],
      "text/plain": [
       "        ELY  KNRO        TILTU     LOHKO        AREA    PERIMETER  \\\n",
       "792543   11   233  971026479.0  40077770  368.540762   816.415759   \n",
       "792515   11   233  971025368.0  40077770  368.540762   816.415759   \n",
       "789359   11   233  281027184.0  40126068  398.492676   856.007206   \n",
       "780177   11   233    4084710.0  40126068  398.492676   856.007206   \n",
       "792544   11   233  971026479.0  40783749  542.836465  1243.717362   \n",
       "777705   11   233    4024385.0  40783749  542.836465  1243.717362   \n",
       "\n",
       "               xmin         ymin         xmax         ymax  \n",
       "792543  3292577.932  7012355.530  3292829.129  7012549.278  \n",
       "792515  3292577.932  7012355.530  3292829.129  7012549.278  \n",
       "789359  3287961.922  7032875.164  3288275.050  7033158.769  \n",
       "780177  3287961.922  7032875.164  3288275.050  7033158.769  \n",
       "792544  3292567.022  7012342.833  3292898.815  7012700.452  \n",
       "777705  3292567.022  7012342.833  3292898.815  7012700.452  "
      ]
     },
     "execution_count": 5,
     "metadata": {},
     "output_type": "execute_result"
    }
   ],
   "source": [
    "df[lohko.isin(lohko[lohko.duplicated()])].sort_values('LOHKO').head(6)"
   ]
  },
  {
   "cell_type": "code",
   "execution_count": 6,
   "metadata": {},
   "outputs": [],
   "source": [
    "df = df[lohko.duplicated() == False]"
   ]
  },
  {
   "cell_type": "markdown",
   "metadata": {},
   "source": [
    "no duplicated entries left"
   ]
  },
  {
   "cell_type": "code",
   "execution_count": 7,
   "metadata": {},
   "outputs": [
    {
     "data": {
      "text/plain": [
       "0"
      ]
     },
     "execution_count": 7,
     "metadata": {},
     "output_type": "execute_result"
    }
   ],
   "source": [
    "df.shape[0] - len(np.unique(df['LOHKO']))"
   ]
  },
  {
   "cell_type": "code",
   "execution_count": 8,
   "metadata": {},
   "outputs": [
    {
     "data": {
      "text/plain": [
       "77.63333333333334"
      ]
     },
     "execution_count": 8,
     "metadata": {},
     "output_type": "execute_result"
    }
   ],
   "source": [
    "df.shape[0]*2/20/60/24"
   ]
  }
 ],
 "metadata": {
  "kernelspec": {
   "display_name": "Python 3",
   "language": "python",
   "name": "python3"
  },
  "language_info": {
   "codemirror_mode": {
    "name": "ipython",
    "version": 3
   },
   "file_extension": ".py",
   "mimetype": "text/x-python",
   "name": "python",
   "nbconvert_exporter": "python",
   "pygments_lexer": "ipython3",
   "version": "3.6.6"
  }
 },
 "nbformat": 4,
 "nbformat_minor": 2
}
