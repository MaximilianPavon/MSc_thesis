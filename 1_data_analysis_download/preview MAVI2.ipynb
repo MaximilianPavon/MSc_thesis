{
 "cells": [
  {
   "cell_type": "code",
   "execution_count": 1,
   "metadata": {},
   "outputs": [],
   "source": [
    "import pandas as pd\n",
    "import numpy as np\n",
    "from matplotlib import pyplot as plt\n",
    "\n",
    "from PIL import Image\n",
    "import os.path"
   ]
  },
  {
   "cell_type": "code",
   "execution_count": 2,
   "metadata": {},
   "outputs": [],
   "source": [
    "df = pd.read_csv('~/Dropbox (Aalto)/MAVI2/2015/rap_2015.csv', sep=',')"
   ]
  },
  {
   "cell_type": "markdown",
   "metadata": {},
   "source": [
    "column translations:\n",
    "- vuosi = YEAR\n",
    "- lohkonro = field parcel\n",
    "- tunnus = identifier\n",
    "- kasvikoodi = PLANT CODE\n",
    "- kasvi = PLANT\n",
    "- lajikekood = VARIETY CODE\n",
    "- lajike = VARIETY\n",
    "- pintaala = Property area\n",
    "- tays_tuho = full crop loss\n",
    "- ositt_tuho = partial crop loss"
   ]
  },
  {
   "cell_type": "code",
   "execution_count": 3,
   "metadata": {},
   "outputs": [
    {
     "name": "stdout",
     "output_type": "stream",
     "text": [
      "length: 465595\n"
     ]
    }
   ],
   "source": [
    "df = df.rename(index=str, columns={\n",
    "    'vuosi' : 'YEAR',\n",
    "    'lohkonro' : 'field parcel',\n",
    "    'tunnus' : 'identifier',\n",
    "    'kasvikoodi' : 'PLANT CODE',\n",
    "    'kasvi' : 'PLANT',\n",
    "    'lajikekood' : 'VARIETY CODE',\n",
    "    'lajike' : 'VARIETY',\n",
    "    'pintaala' : 'Property area',\n",
    "    'tays_tuho' : 'full crop loss',\n",
    "    'ositt_tuho' : 'partial crop loss'})\n",
    "print('length:', len(df))"
   ]
  },
  {
   "cell_type": "code",
   "execution_count": 4,
   "metadata": {},
   "outputs": [
    {
     "data": {
      "text/html": [
       "<div>\n",
       "<style scoped>\n",
       "    .dataframe tbody tr th:only-of-type {\n",
       "        vertical-align: middle;\n",
       "    }\n",
       "\n",
       "    .dataframe tbody tr th {\n",
       "        vertical-align: top;\n",
       "    }\n",
       "\n",
       "    .dataframe thead th {\n",
       "        text-align: right;\n",
       "    }\n",
       "</style>\n",
       "<table border=\"1\" class=\"dataframe\">\n",
       "  <thead>\n",
       "    <tr style=\"text-align: right;\">\n",
       "      <th></th>\n",
       "      <th>rowid</th>\n",
       "      <th>YEAR</th>\n",
       "      <th>field parcel</th>\n",
       "      <th>identifier</th>\n",
       "      <th>PLANT CODE</th>\n",
       "      <th>PLANT</th>\n",
       "      <th>VARIETY CODE</th>\n",
       "      <th>VARIETY</th>\n",
       "      <th>Property area</th>\n",
       "      <th>full crop loss</th>\n",
       "      <th>partial crop loss</th>\n",
       "      <th>xmin</th>\n",
       "      <th>xmax</th>\n",
       "      <th>ymin</th>\n",
       "      <th>ymax</th>\n",
       "    </tr>\n",
       "  </thead>\n",
       "  <tbody>\n",
       "    <tr>\n",
       "      <th>0</th>\n",
       "      <td>1</td>\n",
       "      <td>2015</td>\n",
       "      <td>8340031607-A</td>\n",
       "      <td>108884</td>\n",
       "      <td>1400</td>\n",
       "      <td>Kaura</td>\n",
       "      <td>41</td>\n",
       "      <td>AKSELI</td>\n",
       "      <td>130</td>\n",
       "      <td>NaN</td>\n",
       "      <td>NaN</td>\n",
       "      <td>332992.292</td>\n",
       "      <td>333122.202</td>\n",
       "      <td>6750626.879</td>\n",
       "      <td>6750777.447</td>\n",
       "    </tr>\n",
       "    <tr>\n",
       "      <th>1</th>\n",
       "      <td>2</td>\n",
       "      <td>2015</td>\n",
       "      <td>8340033324-A</td>\n",
       "      <td>108884</td>\n",
       "      <td>1400</td>\n",
       "      <td>Kaura</td>\n",
       "      <td>41</td>\n",
       "      <td>AKSELI</td>\n",
       "      <td>211</td>\n",
       "      <td>NaN</td>\n",
       "      <td>NaN</td>\n",
       "      <td>332136.192</td>\n",
       "      <td>332326.200</td>\n",
       "      <td>6749464.459</td>\n",
       "      <td>6749614.102</td>\n",
       "    </tr>\n",
       "    <tr>\n",
       "      <th>2</th>\n",
       "      <td>3</td>\n",
       "      <td>2015</td>\n",
       "      <td>8340473258-A</td>\n",
       "      <td>108884</td>\n",
       "      <td>1400</td>\n",
       "      <td>Kaura</td>\n",
       "      <td>41</td>\n",
       "      <td>AKSELI</td>\n",
       "      <td>716</td>\n",
       "      <td>NaN</td>\n",
       "      <td>NaN</td>\n",
       "      <td>332180.685</td>\n",
       "      <td>332627.877</td>\n",
       "      <td>6749577.142</td>\n",
       "      <td>6749797.020</td>\n",
       "    </tr>\n",
       "    <tr>\n",
       "      <th>3</th>\n",
       "      <td>4</td>\n",
       "      <td>2015</td>\n",
       "      <td>0460023106-A</td>\n",
       "      <td>84735</td>\n",
       "      <td>1310</td>\n",
       "      <td>Rehuohra</td>\n",
       "      <td>82</td>\n",
       "      <td>TOCADA</td>\n",
       "      <td>46</td>\n",
       "      <td>NaN</td>\n",
       "      <td>NaN</td>\n",
       "      <td>596822.261</td>\n",
       "      <td>596931.075</td>\n",
       "      <td>6880077.350</td>\n",
       "      <td>6880137.385</td>\n",
       "    </tr>\n",
       "    <tr>\n",
       "      <th>4</th>\n",
       "      <td>5</td>\n",
       "      <td>2015</td>\n",
       "      <td>0460023510-A</td>\n",
       "      <td>84735</td>\n",
       "      <td>1310</td>\n",
       "      <td>Rehuohra</td>\n",
       "      <td>82</td>\n",
       "      <td>TOCADA</td>\n",
       "      <td>339</td>\n",
       "      <td>NaN</td>\n",
       "      <td>NaN</td>\n",
       "      <td>597438.622</td>\n",
       "      <td>597776.129</td>\n",
       "      <td>6879804.776</td>\n",
       "      <td>6880060.952</td>\n",
       "    </tr>\n",
       "  </tbody>\n",
       "</table>\n",
       "</div>"
      ],
      "text/plain": [
       "   rowid  YEAR  field parcel  identifier  PLANT CODE     PLANT VARIETY CODE  \\\n",
       "0      1  2015  8340031607-A      108884        1400     Kaura           41   \n",
       "1      2  2015  8340033324-A      108884        1400     Kaura           41   \n",
       "2      3  2015  8340473258-A      108884        1400     Kaura           41   \n",
       "3      4  2015  0460023106-A       84735        1310  Rehuohra           82   \n",
       "4      5  2015  0460023510-A       84735        1310  Rehuohra           82   \n",
       "\n",
       "  VARIETY  Property area  full crop loss  partial crop loss        xmin  \\\n",
       "0  AKSELI            130             NaN                NaN  332992.292   \n",
       "1  AKSELI            211             NaN                NaN  332136.192   \n",
       "2  AKSELI            716             NaN                NaN  332180.685   \n",
       "3  TOCADA             46             NaN                NaN  596822.261   \n",
       "4  TOCADA            339             NaN                NaN  597438.622   \n",
       "\n",
       "         xmax         ymin         ymax  \n",
       "0  333122.202  6750626.879  6750777.447  \n",
       "1  332326.200  6749464.459  6749614.102  \n",
       "2  332627.877  6749577.142  6749797.020  \n",
       "3  596931.075  6880077.350  6880137.385  \n",
       "4  597776.129  6879804.776  6880060.952  "
      ]
     },
     "execution_count": 4,
     "metadata": {},
     "output_type": "execute_result"
    }
   ],
   "source": [
    "df.head(5)"
   ]
  },
  {
   "cell_type": "code",
   "execution_count": 5,
   "metadata": {},
   "outputs": [
    {
     "name": "stdout",
     "output_type": "stream",
     "text": [
      "remove duplicates\n",
      "27 duplicate entries\n",
      "0 duplicate entries\n"
     ]
    }
   ],
   "source": [
    "print('remove duplicates')\n",
    "\n",
    "print(df.shape[0] - len(np.unique(df['field parcel'])), 'duplicate entries' )\n",
    "\n",
    "fieldparcel = df['field parcel']\n",
    "\n",
    "df = df[fieldparcel.duplicated() == False]\n",
    "\n",
    "print(df.shape[0] - len(np.unique(df['field parcel'])), 'duplicate entries' )"
   ]
  },
  {
   "cell_type": "code",
   "execution_count": 6,
   "metadata": {},
   "outputs": [
    {
     "name": "stdout",
     "output_type": "stream",
     "text": [
      "only  7384 (full) resp.  11994 (partial) of a total  465568 have a crop loss information\n"
     ]
    }
   ],
   "source": [
    "print('only ', len(df['full crop loss'].dropna()), '(full) resp. ', len(df['partial crop loss'].dropna()),\n",
    "      '(partial) of a total ', len(df), 'have a crop loss information')"
   ]
  },
  {
   "cell_type": "markdown",
   "metadata": {},
   "source": [
    "select only those rows, where **both** full and partial crop loss are present"
   ]
  },
  {
   "cell_type": "code",
   "execution_count": 7,
   "metadata": {},
   "outputs": [
    {
     "name": "stdout",
     "output_type": "stream",
     "text": [
      "length:  465568\n"
     ]
    }
   ],
   "source": [
    "# # full = df['full crop loss']\n",
    "# # partial = df['partial crop loss']\n",
    "# # df = df[np.isfinite(full) & np.isfinite(partial)]\n",
    "# df = df.dropna(subset=['full crop loss', 'partial crop loss'])\n",
    "print('length: ', len(df))\n",
    "# df.head(4)"
   ]
  },
  {
   "cell_type": "markdown",
   "metadata": {},
   "source": [
    "create new column: relative crop loss = crop loss / area"
   ]
  },
  {
   "cell_type": "code",
   "execution_count": 8,
   "metadata": {},
   "outputs": [
    {
     "data": {
      "text/html": [
       "<div>\n",
       "<style scoped>\n",
       "    .dataframe tbody tr th:only-of-type {\n",
       "        vertical-align: middle;\n",
       "    }\n",
       "\n",
       "    .dataframe tbody tr th {\n",
       "        vertical-align: top;\n",
       "    }\n",
       "\n",
       "    .dataframe thead th {\n",
       "        text-align: right;\n",
       "    }\n",
       "</style>\n",
       "<table border=\"1\" class=\"dataframe\">\n",
       "  <thead>\n",
       "    <tr style=\"text-align: right;\">\n",
       "      <th></th>\n",
       "      <th>rowid</th>\n",
       "      <th>YEAR</th>\n",
       "      <th>field parcel</th>\n",
       "      <th>identifier</th>\n",
       "      <th>PLANT CODE</th>\n",
       "      <th>PLANT</th>\n",
       "      <th>VARIETY CODE</th>\n",
       "      <th>VARIETY</th>\n",
       "      <th>Property area</th>\n",
       "      <th>full crop loss</th>\n",
       "      <th>partial crop loss</th>\n",
       "      <th>xmin</th>\n",
       "      <th>xmax</th>\n",
       "      <th>ymin</th>\n",
       "      <th>ymax</th>\n",
       "      <th>full crop loss scaled</th>\n",
       "      <th>partial crop loss scaled</th>\n",
       "    </tr>\n",
       "  </thead>\n",
       "  <tbody>\n",
       "    <tr>\n",
       "      <th>0</th>\n",
       "      <td>1</td>\n",
       "      <td>2015</td>\n",
       "      <td>8340031607-A</td>\n",
       "      <td>108884</td>\n",
       "      <td>1400</td>\n",
       "      <td>Kaura</td>\n",
       "      <td>41</td>\n",
       "      <td>AKSELI</td>\n",
       "      <td>130</td>\n",
       "      <td>NaN</td>\n",
       "      <td>NaN</td>\n",
       "      <td>332992.292</td>\n",
       "      <td>333122.202</td>\n",
       "      <td>6750626.879</td>\n",
       "      <td>6750777.447</td>\n",
       "      <td>NaN</td>\n",
       "      <td>NaN</td>\n",
       "    </tr>\n",
       "    <tr>\n",
       "      <th>1</th>\n",
       "      <td>2</td>\n",
       "      <td>2015</td>\n",
       "      <td>8340033324-A</td>\n",
       "      <td>108884</td>\n",
       "      <td>1400</td>\n",
       "      <td>Kaura</td>\n",
       "      <td>41</td>\n",
       "      <td>AKSELI</td>\n",
       "      <td>211</td>\n",
       "      <td>NaN</td>\n",
       "      <td>NaN</td>\n",
       "      <td>332136.192</td>\n",
       "      <td>332326.200</td>\n",
       "      <td>6749464.459</td>\n",
       "      <td>6749614.102</td>\n",
       "      <td>NaN</td>\n",
       "      <td>NaN</td>\n",
       "    </tr>\n",
       "    <tr>\n",
       "      <th>2</th>\n",
       "      <td>3</td>\n",
       "      <td>2015</td>\n",
       "      <td>8340473258-A</td>\n",
       "      <td>108884</td>\n",
       "      <td>1400</td>\n",
       "      <td>Kaura</td>\n",
       "      <td>41</td>\n",
       "      <td>AKSELI</td>\n",
       "      <td>716</td>\n",
       "      <td>NaN</td>\n",
       "      <td>NaN</td>\n",
       "      <td>332180.685</td>\n",
       "      <td>332627.877</td>\n",
       "      <td>6749577.142</td>\n",
       "      <td>6749797.020</td>\n",
       "      <td>NaN</td>\n",
       "      <td>NaN</td>\n",
       "    </tr>\n",
       "    <tr>\n",
       "      <th>3</th>\n",
       "      <td>4</td>\n",
       "      <td>2015</td>\n",
       "      <td>0460023106-A</td>\n",
       "      <td>84735</td>\n",
       "      <td>1310</td>\n",
       "      <td>Rehuohra</td>\n",
       "      <td>82</td>\n",
       "      <td>TOCADA</td>\n",
       "      <td>46</td>\n",
       "      <td>NaN</td>\n",
       "      <td>NaN</td>\n",
       "      <td>596822.261</td>\n",
       "      <td>596931.075</td>\n",
       "      <td>6880077.350</td>\n",
       "      <td>6880137.385</td>\n",
       "      <td>NaN</td>\n",
       "      <td>NaN</td>\n",
       "    </tr>\n",
       "  </tbody>\n",
       "</table>\n",
       "</div>"
      ],
      "text/plain": [
       "   rowid  YEAR  field parcel  identifier  PLANT CODE     PLANT VARIETY CODE  \\\n",
       "0      1  2015  8340031607-A      108884        1400     Kaura           41   \n",
       "1      2  2015  8340033324-A      108884        1400     Kaura           41   \n",
       "2      3  2015  8340473258-A      108884        1400     Kaura           41   \n",
       "3      4  2015  0460023106-A       84735        1310  Rehuohra           82   \n",
       "\n",
       "  VARIETY  Property area  full crop loss  partial crop loss        xmin  \\\n",
       "0  AKSELI            130             NaN                NaN  332992.292   \n",
       "1  AKSELI            211             NaN                NaN  332136.192   \n",
       "2  AKSELI            716             NaN                NaN  332180.685   \n",
       "3  TOCADA             46             NaN                NaN  596822.261   \n",
       "\n",
       "         xmax         ymin         ymax  full crop loss scaled  \\\n",
       "0  333122.202  6750626.879  6750777.447                    NaN   \n",
       "1  332326.200  6749464.459  6749614.102                    NaN   \n",
       "2  332627.877  6749577.142  6749797.020                    NaN   \n",
       "3  596931.075  6880077.350  6880137.385                    NaN   \n",
       "\n",
       "   partial crop loss scaled  \n",
       "0                       NaN  \n",
       "1                       NaN  \n",
       "2                       NaN  \n",
       "3                       NaN  "
      ]
     },
     "execution_count": 8,
     "metadata": {},
     "output_type": "execute_result"
    }
   ],
   "source": [
    "df['full crop loss scaled'] = df['full crop loss'] / df['Property area']\n",
    "df['partial crop loss scaled'] = df['partial crop loss'] / df['Property area']\n",
    "df.head(4)"
   ]
  },
  {
   "cell_type": "code",
   "execution_count": 9,
   "metadata": {},
   "outputs": [
    {
     "name": "stdout",
     "output_type": "stream",
     "text": [
      "variety codes:  155\n",
      "varieties:  553\n",
      "plant codes: 58\n",
      "plants: 58\n"
     ]
    }
   ],
   "source": [
    "print('variety codes: ' , len(np.unique(list(df['VARIETY CODE']))))\n",
    "print('varieties: ' , len(np.unique(list(df['VARIETY']))))\n",
    "print('plant codes:', len(np.unique(list(df['PLANT CODE']))))\n",
    "print('plants:', len(np.unique(list(df['PLANT']))))"
   ]
  },
  {
   "cell_type": "code",
   "execution_count": 10,
   "metadata": {},
   "outputs": [],
   "source": [
    "# print('Info partial crop loss')\n",
    "# print('min:', min(np.unique(list(df['partial crop loss']))))\n",
    "# print('max:', max(np.unique(list(df['partial crop loss']))))\n",
    "# print('unique values:', len(list(np.unique(list(df['partial crop loss'])))))\n",
    "# print(list(np.unique(list(df['partial crop loss']))))"
   ]
  },
  {
   "cell_type": "code",
   "execution_count": 11,
   "metadata": {},
   "outputs": [],
   "source": [
    "# plt.hist(list(np.unique(list(df['partial crop loss']))), bins=40)\n",
    "# plt.title('partial crop loss')"
   ]
  },
  {
   "cell_type": "code",
   "execution_count": 12,
   "metadata": {},
   "outputs": [],
   "source": [
    "# print('Info full crop loss')\n",
    "# print('min:', min(np.unique(list(df['full crop loss']))))\n",
    "# print('max:', max(np.unique(list(df['full crop loss']))))\n",
    "# print('unique values:', len(list(np.unique(list(df['full crop loss'])))))\n",
    "# print(list(np.unique(list(df['full crop loss']))))"
   ]
  },
  {
   "cell_type": "code",
   "execution_count": 13,
   "metadata": {},
   "outputs": [],
   "source": [
    "# plt.hist(list(np.unique(list(df['full crop loss']))), bins=40)\n",
    "# plt.title('full crop loss')"
   ]
  },
  {
   "cell_type": "code",
   "execution_count": 14,
   "metadata": {},
   "outputs": [
    {
     "data": {
      "text/plain": [
       "array(['Apila', 'Auringonkukka', 'Hirssi', 'Humala', 'Härkäpapu', 'Kaura',\n",
       "       'Kevätrapsi', 'Kevätruis', 'Kevätrypsi', 'Kevätspelttivehnä',\n",
       "       'Kevätvehnä', 'Kuituhamppu', 'Kuitunokkonen', 'Kuitupellava',\n",
       "       'Kvinoa (kinua)', 'Mailanen', 'Maissi', 'Makealupiini',\n",
       "       'Mallasohra', 'Mesikkä', 'Muut valkuaiskasvit', 'Muut viljat',\n",
       "       'Rehuherne', 'Rehuohra', 'Ruistankio (Camelina, Kitupellava)',\n",
       "       'Ruokaherne', 'Ruokaperuna', 'Ruokateollisuusperuna',\n",
       "       'Seos (herne/härkäpapu/makea lupiini/öljykasvit)',\n",
       "       'Seos herne/härkäpapu/makea lupiini yli 50 %+viljaa',\n",
       "       'Seoskasvusto (valkuaiskasvit)',\n",
       "       'Seoskasvusto (valkuaiskasvit+vilja)',\n",
       "       'Seoskasvusto (valkuaiskasvit+öljykasvit)',\n",
       "       'Seoskasvusto (vilja+öljykasvit)', 'Seoskasvusto (viljat)',\n",
       "       'Seoskasvusto (öljykasvit)',\n",
       "       'Siemenperuna (sertifioidun siemenen tuotantoon)', 'Soijapapu',\n",
       "       'Sokerimaissi', 'Syysohra', 'Syysrapsi', 'Syysruis',\n",
       "       'Syysruisvehnä', 'Syysrypsi', 'Syysspelttivehnä', 'Syysvehnä',\n",
       "       'Tattari', 'Tärkkelysperuna', 'Tärkkelysperunan oma siemenlisäys',\n",
       "       'Varhaisperuna (katteenalainen)', 'Vihantavilja (kaura)',\n",
       "       'Vihantavilja (ohra)', 'Vihantavilja (ruis)',\n",
       "       'Vihantavilja (vehnä)', 'Vihantavilja (viljaseos)', 'Virna',\n",
       "       'Öljyhamppu', 'Öljypellava'], dtype='<U50')"
      ]
     },
     "execution_count": 14,
     "metadata": {},
     "output_type": "execute_result"
    }
   ],
   "source": [
    "np.unique(list(df['PLANT']))"
   ]
  },
  {
   "cell_type": "markdown",
   "metadata": {},
   "source": [
    "translation of plants:\n",
    "\n",
    "- Kaura - Oats\n",
    "- Kevät rapsi - Spring rape\n",
    "- Kevät ruis - Spring rye\n",
    "- Kevät rypsi - Spring rapeseed\n",
    "- Kevätvehnä - spring wheat\n",
    "- Mallasohra - Malting barley\n",
    "- Rehuherne - feed peas\n",
    "- Rehu ohra - feed barley\n",
    "- Ruoka herne - Food Pea\n",
    "- Ruoka peruna - Food potato\n",
    "- Ruoka teollisuus peruna - Food industry potato\n",
    "- Seoskasvusto (valkuaiskasvit+vilja) - Seagrass (protein crops + grain)\n",
    "- Seoskasvusto (viljat) - Seagrass (cereals)\n",
    "- Siemen peruna (sertifioidunsiemenentuotantoon) - Potato seed (for certified seed production)\n",
    "- Syys ruis - September rye\n",
    "- Syys rypsi - Autumn is rapeseed\n",
    "- Syysvehnä - Winter wheat\n",
    "- Tärkkelysperuna - Starch potatoes\n",
    "- Tärkkelys perunanomasiemenlisäys - Starch Potato Meal Addition\n",
    "- Vihantavilja(kaura) - Forage cereals (oats)\n",
    "- Vihantavilja(ohra) - Forage cereals (barley)\n",
    "- Öljypellava - Flax oil"
   ]
  },
  {
   "cell_type": "code",
   "execution_count": 15,
   "metadata": {},
   "outputs": [
    {
     "name": "stdout",
     "output_type": "stream",
     "text": [
      "Apila \t  556\n",
      "Auringonkukka \t  304\n",
      "Hirssi \t  1\n",
      "Humala \t  9\n",
      "Härkäpapu \t  4060\n",
      "Kaura \t  130707\n",
      "Kevätrapsi \t  4159\n",
      "Kevätruis \t  624\n",
      "Kevätrypsi \t  11102\n",
      "Kevätspelttivehnä \t  96\n",
      "Kevätvehnä \t  60400\n",
      "Kuituhamppu \t  99\n",
      "Kuitunokkonen \t  2\n",
      "Kuitupellava \t  2\n",
      "Kvinoa (kinua) \t  22\n",
      "Mailanen \t  102\n",
      "Maissi \t  215\n",
      "Makealupiini \t  19\n",
      "Mallasohra \t  22334\n",
      "Mesikkä \t  47\n",
      "Muut valkuaiskasvit \t  32\n",
      "Muut viljat \t  221\n",
      "Rehuherne \t  2568\n",
      "Rehuohra \t  158304\n",
      "Ruistankio (Camelina, Kitupellava) \t  4\n",
      "Ruokaherne \t  1616\n",
      "Ruokaperuna \t  12604\n",
      "Ruokateollisuusperuna \t  1398\n",
      "Seos (herne/härkäpapu/makea lupiini/öljykasvit) \t  78\n",
      "Seos herne/härkäpapu/makea lupiini yli 50 %+viljaa \t  2669\n",
      "Seoskasvusto (valkuaiskasvit) \t  149\n",
      "Seoskasvusto (valkuaiskasvit+vilja) \t  3070\n",
      "Seoskasvusto (valkuaiskasvit+öljykasvit) \t  53\n",
      "Seoskasvusto (vilja+öljykasvit) \t  14\n",
      "Seoskasvusto (viljat) \t  8990\n",
      "Seoskasvusto (öljykasvit) \t  8\n",
      "Siemenperuna (sertifioidun siemenen tuotantoon) \t  410\n",
      "Soijapapu \t  2\n",
      "Sokerimaissi \t  51\n",
      "Syysohra \t  23\n",
      "Syysrapsi \t  574\n",
      "Syysruis \t  9437\n",
      "Syysruisvehnä \t  58\n",
      "Syysrypsi \t  458\n",
      "Syysspelttivehnä \t  183\n",
      "Syysvehnä \t  11034\n",
      "Tattari \t  550\n",
      "Tärkkelysperuna \t  2602\n",
      "Tärkkelysperunan oma siemenlisäys \t  580\n",
      "Varhaisperuna (katteenalainen) \t  1167\n",
      "Vihantavilja (kaura) \t  6846\n",
      "Vihantavilja (ohra) \t  2462\n",
      "Vihantavilja (ruis) \t  31\n",
      "Vihantavilja (vehnä) \t  321\n",
      "Vihantavilja (viljaseos) \t  1378\n",
      "Virna \t  107\n",
      "Öljyhamppu \t  142\n",
      "Öljypellava \t  514\n",
      "------------\n",
      "maximum number for Rehuohra with 158304 entries\n"
     ]
    }
   ],
   "source": [
    "# select largest number of samples for one given plant species\n",
    "plants = df['PLANT']\n",
    "num = 0\n",
    "for plant in np.unique(list(plants)):\n",
    "    num_tmp = len(df[plants == plant])\n",
    "    print(plant, '\\t ', num_tmp)\n",
    "\n",
    "    if num_tmp > num:\n",
    "        num = num_tmp\n",
    "        plant_max = plant\n",
    "        \n",
    "print('------------')\n",
    "print('maximum number for', plant_max, 'with', num, 'entries')"
   ]
  },
  {
   "cell_type": "code",
   "execution_count": 16,
   "metadata": {},
   "outputs": [
    {
     "name": "stdout",
     "output_type": "stream",
     "text": [
      "length remaining: 158304\n"
     ]
    }
   ],
   "source": [
    "df = df[plants == plant_max]\n",
    "df.head(10)\n",
    "print('length remaining:', len(df))"
   ]
  },
  {
   "cell_type": "code",
   "execution_count": 17,
   "metadata": {},
   "outputs": [
    {
     "data": {
      "text/html": [
       "<div>\n",
       "<style scoped>\n",
       "    .dataframe tbody tr th:only-of-type {\n",
       "        vertical-align: middle;\n",
       "    }\n",
       "\n",
       "    .dataframe tbody tr th {\n",
       "        vertical-align: top;\n",
       "    }\n",
       "\n",
       "    .dataframe thead th {\n",
       "        text-align: right;\n",
       "    }\n",
       "</style>\n",
       "<table border=\"1\" class=\"dataframe\">\n",
       "  <thead>\n",
       "    <tr style=\"text-align: right;\">\n",
       "      <th></th>\n",
       "      <th>rowid</th>\n",
       "      <th>YEAR</th>\n",
       "      <th>field parcel</th>\n",
       "      <th>identifier</th>\n",
       "      <th>PLANT CODE</th>\n",
       "      <th>PLANT</th>\n",
       "      <th>VARIETY CODE</th>\n",
       "      <th>VARIETY</th>\n",
       "      <th>Property area</th>\n",
       "      <th>full crop loss</th>\n",
       "      <th>partial crop loss</th>\n",
       "      <th>xmin</th>\n",
       "      <th>xmax</th>\n",
       "      <th>ymin</th>\n",
       "      <th>ymax</th>\n",
       "      <th>full crop loss scaled</th>\n",
       "      <th>partial crop loss scaled</th>\n",
       "    </tr>\n",
       "  </thead>\n",
       "  <tbody>\n",
       "    <tr>\n",
       "      <th>3</th>\n",
       "      <td>4</td>\n",
       "      <td>2015</td>\n",
       "      <td>0460023106-A</td>\n",
       "      <td>84735</td>\n",
       "      <td>1310</td>\n",
       "      <td>Rehuohra</td>\n",
       "      <td>82</td>\n",
       "      <td>TOCADA</td>\n",
       "      <td>46</td>\n",
       "      <td>NaN</td>\n",
       "      <td>NaN</td>\n",
       "      <td>596822.261</td>\n",
       "      <td>596931.075</td>\n",
       "      <td>6880077.350</td>\n",
       "      <td>6880137.385</td>\n",
       "      <td>NaN</td>\n",
       "      <td>NaN</td>\n",
       "    </tr>\n",
       "    <tr>\n",
       "      <th>4</th>\n",
       "      <td>5</td>\n",
       "      <td>2015</td>\n",
       "      <td>0460023510-A</td>\n",
       "      <td>84735</td>\n",
       "      <td>1310</td>\n",
       "      <td>Rehuohra</td>\n",
       "      <td>82</td>\n",
       "      <td>TOCADA</td>\n",
       "      <td>339</td>\n",
       "      <td>NaN</td>\n",
       "      <td>NaN</td>\n",
       "      <td>597438.622</td>\n",
       "      <td>597776.129</td>\n",
       "      <td>6879804.776</td>\n",
       "      <td>6880060.952</td>\n",
       "      <td>NaN</td>\n",
       "      <td>NaN</td>\n",
       "    </tr>\n",
       "    <tr>\n",
       "      <th>6</th>\n",
       "      <td>7</td>\n",
       "      <td>2015</td>\n",
       "      <td>1650371942-A</td>\n",
       "      <td>58419</td>\n",
       "      <td>1310</td>\n",
       "      <td>Rehuohra</td>\n",
       "      <td>AK</td>\n",
       "      <td>ELMERI</td>\n",
       "      <td>64</td>\n",
       "      <td>NaN</td>\n",
       "      <td>NaN</td>\n",
       "      <td>362055.439</td>\n",
       "      <td>362217.501</td>\n",
       "      <td>6751049.808</td>\n",
       "      <td>6751127.568</td>\n",
       "      <td>NaN</td>\n",
       "      <td>NaN</td>\n",
       "    </tr>\n",
       "    <tr>\n",
       "      <th>7</th>\n",
       "      <td>8</td>\n",
       "      <td>2015</td>\n",
       "      <td>4330062923-A</td>\n",
       "      <td>58419</td>\n",
       "      <td>1310</td>\n",
       "      <td>Rehuohra</td>\n",
       "      <td>AK</td>\n",
       "      <td>ELMERI</td>\n",
       "      <td>161</td>\n",
       "      <td>NaN</td>\n",
       "      <td>NaN</td>\n",
       "      <td>344866.560</td>\n",
       "      <td>345066.421</td>\n",
       "      <td>6740995.600</td>\n",
       "      <td>6741324.333</td>\n",
       "      <td>NaN</td>\n",
       "      <td>NaN</td>\n",
       "    </tr>\n",
       "  </tbody>\n",
       "</table>\n",
       "</div>"
      ],
      "text/plain": [
       "   rowid  YEAR  field parcel  identifier  PLANT CODE     PLANT VARIETY CODE  \\\n",
       "3      4  2015  0460023106-A       84735        1310  Rehuohra           82   \n",
       "4      5  2015  0460023510-A       84735        1310  Rehuohra           82   \n",
       "6      7  2015  1650371942-A       58419        1310  Rehuohra           AK   \n",
       "7      8  2015  4330062923-A       58419        1310  Rehuohra           AK   \n",
       "\n",
       "  VARIETY  Property area  full crop loss  partial crop loss        xmin  \\\n",
       "3  TOCADA             46             NaN                NaN  596822.261   \n",
       "4  TOCADA            339             NaN                NaN  597438.622   \n",
       "6  ELMERI             64             NaN                NaN  362055.439   \n",
       "7  ELMERI            161             NaN                NaN  344866.560   \n",
       "\n",
       "         xmax         ymin         ymax  full crop loss scaled  \\\n",
       "3  596931.075  6880077.350  6880137.385                    NaN   \n",
       "4  597776.129  6879804.776  6880060.952                    NaN   \n",
       "6  362217.501  6751049.808  6751127.568                    NaN   \n",
       "7  345066.421  6740995.600  6741324.333                    NaN   \n",
       "\n",
       "   partial crop loss scaled  \n",
       "3                       NaN  \n",
       "4                       NaN  \n",
       "6                       NaN  \n",
       "7                       NaN  "
      ]
     },
     "execution_count": 17,
     "metadata": {},
     "output_type": "execute_result"
    }
   ],
   "source": [
    "df.head(4)"
   ]
  },
  {
   "cell_type": "code",
   "execution_count": 22,
   "metadata": {},
   "outputs": [
    {
     "data": {
      "text/plain": [
       "1.0"
      ]
     },
     "execution_count": 22,
     "metadata": {},
     "output_type": "execute_result"
    }
   ],
   "source": [
    "max(df['partial crop loss scaled'])"
   ]
  },
  {
   "cell_type": "code",
   "execution_count": 85,
   "metadata": {},
   "outputs": [],
   "source": [
    "t = 10\n",
    "files = []\n",
    "full_cl = []\n",
    "partial_cl = []\n",
    "\n",
    "path_to_data = 'data/'\n",
    "layer = 'NDVI'\n",
    "f_extension = '.png'\n",
    "\n",
    "for index, row in df.iterrows():\n",
    "    \n",
    "    if len(files)+1 > t:\n",
    "        break\n",
    "    \n",
    "    file = path_to_data + str(row['field parcel']) + '_' +layer + f_extension\n",
    "    if os.path.isfile(file):\n",
    "        files.append(file)\n",
    "        full_cl.append(row['full crop loss scaled'])\n",
    "        partial_cl.append(row['partial crop loss scaled'])\n",
    "    \n",
    "full_cl = np.array(full_cl)\n",
    "partial_cl = np.array(partial_cl)"
   ]
  },
  {
   "cell_type": "code",
   "execution_count": 86,
   "metadata": {},
   "outputs": [],
   "source": [
    "x = np.array([np.array(Image.open(fname)) for fname in files])"
   ]
  },
  {
   "cell_type": "code",
   "execution_count": 87,
   "metadata": {},
   "outputs": [
    {
     "data": {
      "text/plain": [
       "['data/9260312033-C_NDVI.png',\n",
       " 'data/0050685328-A_NDVI.png',\n",
       " 'data/6310176261-A_NDVI.png',\n",
       " 'data/1450036731-A_NDVI.png',\n",
       " 'data/3170415492-A_NDVI.png',\n",
       " 'data/5010091224-A_NDVI.png',\n",
       " 'data/3170382958-A_NDVI.png',\n",
       " 'data/9160022622-A_NDVI.png',\n",
       " 'data/9260212104-A_NDVI.png',\n",
       " 'data/6260185390-A_NDVI.png']"
      ]
     },
     "execution_count": 87,
     "metadata": {},
     "output_type": "execute_result"
    }
   ],
   "source": [
    "files"
   ]
  },
  {
   "cell_type": "code",
   "execution_count": 88,
   "metadata": {},
   "outputs": [
    {
     "name": "stdout",
     "output_type": "stream",
     "text": [
      "7.5 MB\n"
     ]
    }
   ],
   "source": [
    "import sys\n",
    "print(round(sys.getsizeof(x)/1024/1024,2),'MB')"
   ]
  },
  {
   "cell_type": "code",
   "execution_count": null,
   "metadata": {},
   "outputs": [],
   "source": []
  }
 ],
 "metadata": {
  "kernelspec": {
   "display_name": "Python 3",
   "language": "python",
   "name": "python3"
  },
  "language_info": {
   "codemirror_mode": {
    "name": "ipython",
    "version": 3
   },
   "file_extension": ".py",
   "mimetype": "text/x-python",
   "name": "python",
   "nbconvert_exporter": "python",
   "pygments_lexer": "ipython3",
   "version": "3.6.6"
  }
 },
 "nbformat": 4,
 "nbformat_minor": 2
}
