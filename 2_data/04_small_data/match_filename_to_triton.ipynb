{
 "cells": [
  {
   "cell_type": "code",
   "execution_count": 1,
   "metadata": {},
   "outputs": [],
   "source": [
    "import pandas as pd\n",
    "import numpy as np\n",
    "from tqdm import tqdm"
   ]
  },
  {
   "cell_type": "code",
   "execution_count": 22,
   "metadata": {},
   "outputs": [
    {
     "data": {
      "text/html": [
       "<div>\n",
       "<style scoped>\n",
       "    .dataframe tbody tr th:only-of-type {\n",
       "        vertical-align: middle;\n",
       "    }\n",
       "\n",
       "    .dataframe tbody tr th {\n",
       "        vertical-align: top;\n",
       "    }\n",
       "\n",
       "    .dataframe thead th {\n",
       "        text-align: right;\n",
       "    }\n",
       "</style>\n",
       "<table border=\"1\" class=\"dataframe\">\n",
       "  <thead>\n",
       "    <tr style=\"text-align: right;\">\n",
       "      <th></th>\n",
       "      <th>file_name</th>\n",
       "      <th>label</th>\n",
       "      <th>file_name_tiff</th>\n",
       "    </tr>\n",
       "  </thead>\n",
       "  <tbody>\n",
       "    <tr>\n",
       "      <th>0</th>\n",
       "      <td>0040491234-A_BANDS-S2-L1C.png</td>\n",
       "      <td>full</td>\n",
       "      <td>0040491234-A_BANDS-S2-L1C.tiff</td>\n",
       "    </tr>\n",
       "    <tr>\n",
       "      <th>1</th>\n",
       "      <td>0040711607-A_BANDS-S2-L1C.png</td>\n",
       "      <td>full</td>\n",
       "      <td>0040711607-A_BANDS-S2-L1C.tiff</td>\n",
       "    </tr>\n",
       "    <tr>\n",
       "      <th>2</th>\n",
       "      <td>0040819014-A_BANDS-S2-L1C.png</td>\n",
       "      <td>full</td>\n",
       "      <td>0040819014-A_BANDS-S2-L1C.tiff</td>\n",
       "    </tr>\n",
       "    <tr>\n",
       "      <th>3</th>\n",
       "      <td>0040819115-A_BANDS-S2-L1C.png</td>\n",
       "      <td>full</td>\n",
       "      <td>0040819115-A_BANDS-S2-L1C.tiff</td>\n",
       "    </tr>\n",
       "    <tr>\n",
       "      <th>4</th>\n",
       "      <td>0050056343-A_BANDS-S2-L1C.png</td>\n",
       "      <td>full</td>\n",
       "      <td>0050056343-A_BANDS-S2-L1C.tiff</td>\n",
       "    </tr>\n",
       "  </tbody>\n",
       "</table>\n",
       "</div>"
      ],
      "text/plain": [
       "                       file_name label                  file_name_tiff\n",
       "0  0040491234-A_BANDS-S2-L1C.png  full  0040491234-A_BANDS-S2-L1C.tiff\n",
       "1  0040711607-A_BANDS-S2-L1C.png  full  0040711607-A_BANDS-S2-L1C.tiff\n",
       "2  0040819014-A_BANDS-S2-L1C.png  full  0040819014-A_BANDS-S2-L1C.tiff\n",
       "3  0040819115-A_BANDS-S2-L1C.png  full  0040819115-A_BANDS-S2-L1C.tiff\n",
       "4  0050056343-A_BANDS-S2-L1C.png  full  0050056343-A_BANDS-S2-L1C.tiff"
      ]
     },
     "execution_count": 22,
     "metadata": {},
     "output_type": "execute_result"
    }
   ],
   "source": [
    "df_train = pd.read_csv('fof_train.txt')\n",
    "df_train['file_name_tiff'] = np.array(df_train['file_name'].str.split('.').tolist())[:,0]\n",
    "df_train['file_name_tiff'] = df_train['file_name_tiff'] + '.tiff'\n",
    "# df_train = df_train.set_index('file_name_tiff')\n",
    "df_train.head()"
   ]
  },
  {
   "cell_type": "code",
   "execution_count": 23,
   "metadata": {},
   "outputs": [
    {
     "data": {
      "text/html": [
       "<div>\n",
       "<style scoped>\n",
       "    .dataframe tbody tr th:only-of-type {\n",
       "        vertical-align: middle;\n",
       "    }\n",
       "\n",
       "    .dataframe tbody tr th {\n",
       "        vertical-align: top;\n",
       "    }\n",
       "\n",
       "    .dataframe thead th {\n",
       "        text-align: right;\n",
       "    }\n",
       "</style>\n",
       "<table border=\"1\" class=\"dataframe\">\n",
       "  <thead>\n",
       "    <tr style=\"text-align: right;\">\n",
       "      <th></th>\n",
       "      <th>path</th>\n",
       "      <th>file_name_tiff</th>\n",
       "    </tr>\n",
       "  </thead>\n",
       "  <tbody>\n",
       "    <tr>\n",
       "      <th>0</th>\n",
       "      <td>2_data/03_data/dataset1/0040002291-A_BANDS-S2-...</td>\n",
       "      <td>0040002291-A_BANDS-S2-L1C.tiff</td>\n",
       "    </tr>\n",
       "    <tr>\n",
       "      <th>1</th>\n",
       "      <td>2_data/03_data/dataset1/0040007446-A_BANDS-S2-...</td>\n",
       "      <td>0040007446-A_BANDS-S2-L1C.tiff</td>\n",
       "    </tr>\n",
       "    <tr>\n",
       "      <th>2</th>\n",
       "      <td>2_data/03_data/dataset1/0040012601-A_BANDS-S2-...</td>\n",
       "      <td>0040012601-A_BANDS-S2-L1C.tiff</td>\n",
       "    </tr>\n",
       "    <tr>\n",
       "      <th>3</th>\n",
       "      <td>2_data/03_data/dataset1/0040012601-B_BANDS-S2-...</td>\n",
       "      <td>0040012601-B_BANDS-S2-L1C.tiff</td>\n",
       "    </tr>\n",
       "    <tr>\n",
       "      <th>4</th>\n",
       "      <td>2_data/03_data/dataset1/0040019671-A_BANDS-S2-...</td>\n",
       "      <td>0040019671-A_BANDS-S2-L1C.tiff</td>\n",
       "    </tr>\n",
       "  </tbody>\n",
       "</table>\n",
       "</div>"
      ],
      "text/plain": [
       "                                                path  \\\n",
       "0  2_data/03_data/dataset1/0040002291-A_BANDS-S2-...   \n",
       "1  2_data/03_data/dataset1/0040007446-A_BANDS-S2-...   \n",
       "2  2_data/03_data/dataset1/0040012601-A_BANDS-S2-...   \n",
       "3  2_data/03_data/dataset1/0040012601-B_BANDS-S2-...   \n",
       "4  2_data/03_data/dataset1/0040019671-A_BANDS-S2-...   \n",
       "\n",
       "                   file_name_tiff  \n",
       "0  0040002291-A_BANDS-S2-L1C.tiff  \n",
       "1  0040007446-A_BANDS-S2-L1C.tiff  \n",
       "2  0040012601-A_BANDS-S2-L1C.tiff  \n",
       "3  0040012601-B_BANDS-S2-L1C.tiff  \n",
       "4  0040019671-A_BANDS-S2-L1C.tiff  "
      ]
     },
     "execution_count": 23,
     "metadata": {},
     "output_type": "execute_result"
    }
   ],
   "source": [
    "df_full = pd.read_csv('../file_of_files.txt',header=None)\n",
    "df_full = df_full.rename(index=str, columns={0: \"path\"})\n",
    "df_full['file_name_tiff'] = np.array(df_full['path'].str.split('/').tolist())[:,3]\n",
    "# df_full = df_full.set_index('file_name_tiff')\n",
    "\n",
    "df_full.head()"
   ]
  },
  {
   "cell_type": "code",
   "execution_count": 25,
   "metadata": {},
   "outputs": [
    {
     "name": "stderr",
     "output_type": "stream",
     "text": [
      "100%|██████████| 7499/7499 [02:04<00:00, 60.16it/s]\n"
     ]
    }
   ],
   "source": [
    "for index, row in tqdm(df_train.iterrows(), total=len(df_train) ):\n",
    "    file_name_tiff = row['file_name_tiff']\n",
    "    \n",
    "    path = df_full[df_full['file_name_tiff'] == file_name_tiff]['path'][0]\n",
    "    \n",
    "    df_train.at[index, 'triton_path'] = path\n",
    "#     break"
   ]
  },
  {
   "cell_type": "code",
   "execution_count": 29,
   "metadata": {},
   "outputs": [
    {
     "data": {
      "text/html": [
       "<div>\n",
       "<style scoped>\n",
       "    .dataframe tbody tr th:only-of-type {\n",
       "        vertical-align: middle;\n",
       "    }\n",
       "\n",
       "    .dataframe tbody tr th {\n",
       "        vertical-align: top;\n",
       "    }\n",
       "\n",
       "    .dataframe thead th {\n",
       "        text-align: right;\n",
       "    }\n",
       "</style>\n",
       "<table border=\"1\" class=\"dataframe\">\n",
       "  <thead>\n",
       "    <tr style=\"text-align: right;\">\n",
       "      <th></th>\n",
       "      <th>file_name</th>\n",
       "      <th>label</th>\n",
       "      <th>file_name_tiff</th>\n",
       "      <th>triton_path</th>\n",
       "    </tr>\n",
       "  </thead>\n",
       "  <tbody>\n",
       "    <tr>\n",
       "      <th>0</th>\n",
       "      <td>0040491234-A_BANDS-S2-L1C.png</td>\n",
       "      <td>full</td>\n",
       "      <td>0040491234-A_BANDS-S2-L1C.tiff</td>\n",
       "      <td>2_data/03_data/dataset1/0040491234-A_BANDS-S2-...</td>\n",
       "    </tr>\n",
       "    <tr>\n",
       "      <th>1</th>\n",
       "      <td>0040711607-A_BANDS-S2-L1C.png</td>\n",
       "      <td>full</td>\n",
       "      <td>0040711607-A_BANDS-S2-L1C.tiff</td>\n",
       "      <td>2_data/03_data/dataset2/0040711607-A_BANDS-S2-...</td>\n",
       "    </tr>\n",
       "    <tr>\n",
       "      <th>2</th>\n",
       "      <td>0040819014-A_BANDS-S2-L1C.png</td>\n",
       "      <td>full</td>\n",
       "      <td>0040819014-A_BANDS-S2-L1C.tiff</td>\n",
       "      <td>2_data/03_data/dataset6/0040819014-A_BANDS-S2-...</td>\n",
       "    </tr>\n",
       "    <tr>\n",
       "      <th>3</th>\n",
       "      <td>0040819115-A_BANDS-S2-L1C.png</td>\n",
       "      <td>full</td>\n",
       "      <td>0040819115-A_BANDS-S2-L1C.tiff</td>\n",
       "      <td>2_data/03_data/dataset4/0040819115-A_BANDS-S2-...</td>\n",
       "    </tr>\n",
       "    <tr>\n",
       "      <th>4</th>\n",
       "      <td>0050056343-A_BANDS-S2-L1C.png</td>\n",
       "      <td>full</td>\n",
       "      <td>0050056343-A_BANDS-S2-L1C.tiff</td>\n",
       "      <td>2_data/03_data/dataset6/0050056343-A_BANDS-S2-...</td>\n",
       "    </tr>\n",
       "  </tbody>\n",
       "</table>\n",
       "</div>"
      ],
      "text/plain": [
       "                       file_name label                  file_name_tiff  \\\n",
       "0  0040491234-A_BANDS-S2-L1C.png  full  0040491234-A_BANDS-S2-L1C.tiff   \n",
       "1  0040711607-A_BANDS-S2-L1C.png  full  0040711607-A_BANDS-S2-L1C.tiff   \n",
       "2  0040819014-A_BANDS-S2-L1C.png  full  0040819014-A_BANDS-S2-L1C.tiff   \n",
       "3  0040819115-A_BANDS-S2-L1C.png  full  0040819115-A_BANDS-S2-L1C.tiff   \n",
       "4  0050056343-A_BANDS-S2-L1C.png  full  0050056343-A_BANDS-S2-L1C.tiff   \n",
       "\n",
       "                                         triton_path  \n",
       "0  2_data/03_data/dataset1/0040491234-A_BANDS-S2-...  \n",
       "1  2_data/03_data/dataset2/0040711607-A_BANDS-S2-...  \n",
       "2  2_data/03_data/dataset6/0040819014-A_BANDS-S2-...  \n",
       "3  2_data/03_data/dataset4/0040819115-A_BANDS-S2-...  \n",
       "4  2_data/03_data/dataset6/0050056343-A_BANDS-S2-...  "
      ]
     },
     "execution_count": 29,
     "metadata": {},
     "output_type": "execute_result"
    }
   ],
   "source": [
    "df_train.head()"
   ]
  },
  {
   "cell_type": "code",
   "execution_count": 28,
   "metadata": {},
   "outputs": [],
   "source": [
    "df_train.to_csv('fof_train_triton.csv', index=False)"
   ]
  }
 ],
 "metadata": {
  "kernelspec": {
   "display_name": "Python 3",
   "language": "python",
   "name": "python3"
  },
  "language_info": {
   "codemirror_mode": {
    "name": "ipython",
    "version": 3
   },
   "file_extension": ".py",
   "mimetype": "text/x-python",
   "name": "python",
   "nbconvert_exporter": "python",
   "pygments_lexer": "ipython3",
   "version": "3.6.8"
  }
 },
 "nbformat": 4,
 "nbformat_minor": 2
}
